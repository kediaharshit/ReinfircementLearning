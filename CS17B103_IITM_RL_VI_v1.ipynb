{
  "nbformat": 4,
  "nbformat_minor": 0,
  "metadata": {
    "language_info": {
      "codemirror_mode": {
        "name": "ipython",
        "version": 3
      },
      "file_extension": ".py",
      "mimetype": "text/x-python",
      "name": "python",
      "nbconvert_exporter": "python",
      "pygments_lexer": "ipython3",
      "version": "3.8.5-final"
    },
    "orig_nbformat": 2,
    "kernelspec": {
      "name": "python3",
      "display_name": "Python 3.8.5 64-bit ('base': conda)",
      "metadata": {
        "interpreter": {
          "hash": "ff00dac108179d3c1c82d8e6cb9ecf4e9dc3d3f409cd941b5c5be41e7679c1ce"
        }
      }
    },
    "colab": {
      "name": "CS17B103 new IITM_RL_VI_v1.ipynb",
      "provenance": [],
      "collapsed_sections": []
    }
  },
  "cells": [
    {
      "cell_type": "markdown",
      "metadata": {
        "id": "xMOtbrHSzC1r"
      },
      "source": [
        "<div style=\"text-align: center\">\n",
        "  <a href=\"https://www.aicrowd.com/challenges/rl-vi\"><img alt=\"AIcrowd\" src=\"https://images.aicrowd.com/raw_images/challenges/banner_file/754/3fc6598e270b9219e215.jpg\"></a>\n",
        "</div>"
      ]
    },
    {
      "cell_type": "markdown",
      "metadata": {
        "id": "WXuhHGatRVNf"
      },
      "source": [
        "# What is the notebook about?\n",
        "\n",
        "## Problem - Value Iteration\n",
        "This problem deals with a grid world and stochastic actions. The tasks you have to do are:\n",
        "- Complete the Environment\n",
        "- Write code for value Iteration\n",
        "- Visualize Results\n",
        "- Explain the results\n",
        "\n",
        "## How to use this notebook? 📝\n",
        "\n",
        "- This is a shared template and any edits you make here will not be saved.**You\n",
        "should make a copy in your own drive**. Click the \"File\" menu (top-left), then \"Save a Copy in Drive\". You will be working in your copy however you like.\n",
        "\n",
        "- **Update the config parameters**. You can define the common variables here\n",
        "\n",
        "Variable | Description\n",
        "--- | ---\n",
        "`AICROWD_DATASET_PATH` | Path to the file containing test data. This should be an absolute path.\n",
        "`AICROWD_RESULTS_DIR` | Path to write the output to.\n",
        "`AICROWD_ASSETS_DIR` | In case your notebook needs additional files (like model weights, etc.,), you can add them to a directory and specify the path to the directory here (please specify relative path). The contents of this directory will be sent to AIcrowd for evaluation.\n",
        "`AICROWD_API_KEY` | In order to submit your code to AIcrowd, you need to provide your account's API key. This key is available at https://www.aicrowd.com/participants/me\n",
        "\n",
        "- **Installing packages**. Please use the [Install packages 🗃](#install-packages-) section to install the packages"
      ]
    },
    {
      "cell_type": "markdown",
      "metadata": {
        "id": "1gzlHU3wRQRj"
      },
      "source": [
        "# Setup AIcrowd Utilities 🛠\n",
        "\n",
        "We use this to bundle the files for submission and create a submission on AIcrowd. Do not edit this block."
      ]
    },
    {
      "cell_type": "code",
      "metadata": {
        "colab": {
          "base_uri": "https://localhost:8080/"
        },
        "id": "FMKvhbEKiFH5",
        "outputId": "5c3dd143-f18f-424f-8da4-6c942b3fbf3b"
      },
      "source": [
        "!pip install -U git+https://gitlab.aicrowd.com/aicrowd/aicrowd-cli.git@notebook-submission-v2 > /dev/null "
      ],
      "execution_count": null,
      "outputs": [
        {
          "output_type": "stream",
          "text": [
            "  Running command git clone -q https://gitlab.aicrowd.com/aicrowd/aicrowd-cli.git /tmp/pip-req-build-_968xkkz\n",
            "  Running command git checkout -b notebook-submission-v2 --track origin/notebook-submission-v2\n",
            "  Switched to a new branch 'notebook-submission-v2'\n",
            "  Branch 'notebook-submission-v2' set up to track remote branch 'notebook-submission-v2' from 'origin'.\n"
          ],
          "name": "stdout"
        }
      ]
    },
    {
      "cell_type": "markdown",
      "metadata": {
        "id": "oJuQ_nzaRpp6"
      },
      "source": [
        "# AIcrowd Runtime Configuration 🧷\n",
        "\n",
        "Define configuration parameters."
      ]
    },
    {
      "cell_type": "code",
      "metadata": {
        "id": "uBKm1IuliJc7"
      },
      "source": [
        "import os\n",
        "\n",
        "AICROWD_DATASET_PATH = os.getenv(\"DATASET_PATH\", os.getcwd()+\"/9db39385-0a4b-47db-8d20-fffb0480e47e_hw2_q2.zip\")\n",
        "AICROWD_RESULTS_DIR = os.getenv(\"OUTPUTS_DIR\", \"results\")\n",
        "API_KEY = \"\" # Get your key from https://www.aicrowd.com/participants/me (ctrl + click the link)"
      ],
      "execution_count": null,
      "outputs": []
    },
    {
      "cell_type": "code",
      "metadata": {
        "colab": {
          "base_uri": "https://localhost:8080/"
        },
        "id": "RQnfZ7VYidPC",
        "outputId": "ba2c38c9-a6ed-4163-f09e-8377e7c47619"
      },
      "source": [
        "!aicrowd login --api-key $API_KEY\n",
        "!aicrowd dataset download -c rl-vi"
      ],
      "execution_count": null,
      "outputs": [
        {
          "output_type": "stream",
          "text": [
            "\u001b[32mAPI Key valid\u001b[0m\n",
            "\u001b[32mSaved API Key successfully!\u001b[0m\n",
            "9db39385-0a4b-47db-8d20-fffb0480e47e_hw2_q2.zip: 100% 3.08k/3.08k [00:00<00:00, 163kB/s]\n"
          ],
          "name": "stdout"
        }
      ]
    },
    {
      "cell_type": "code",
      "metadata": {
        "colab": {
          "base_uri": "https://localhost:8080/"
        },
        "id": "RHqevxIX_4fo",
        "outputId": "235fde9d-7e8b-491e-942f-9d31585f8c70"
      },
      "source": [
        "!unzip $AICROWD_DATASET_PATH"
      ],
      "execution_count": null,
      "outputs": [
        {
          "output_type": "stream",
          "text": [
            "Archive:  /content/9db39385-0a4b-47db-8d20-fffb0480e47e_hw2_q2.zip\n",
            "replace hw2_q2/targets/targets_0.npy? [y]es, [n]o, [A]ll, [N]one, [r]ename: N\n"
          ],
          "name": "stdout"
        }
      ]
    },
    {
      "cell_type": "code",
      "metadata": {
        "id": "gm46inU6ABu-",
        "colab": {
          "base_uri": "https://localhost:8080/"
        },
        "outputId": "f1ff7a66-c1a6-4cbc-f75f-a134eb80667b"
      },
      "source": [
        "DATASET_DIR = 'hw2_q2/'\n",
        "!mkdir {DATASET_DIR}results/"
      ],
      "execution_count": null,
      "outputs": [
        {
          "output_type": "stream",
          "text": [
            "mkdir: cannot create directory ‘hw2_q2/results/’: File exists\n"
          ],
          "name": "stdout"
        }
      ]
    },
    {
      "cell_type": "markdown",
      "metadata": {
        "id": "gTeWFlWukTob"
      },
      "source": [
        "# Install packages 🗃\n",
        "\n",
        "Please add all package installations in this section"
      ]
    },
    {
      "cell_type": "code",
      "metadata": {
        "id": "cusnfjYFRVNm"
      },
      "source": [
        ""
      ],
      "execution_count": null,
      "outputs": []
    },
    {
      "cell_type": "markdown",
      "metadata": {
        "id": "TxdOqsVGRXKg"
      },
      "source": [
        "# Import packages 💻"
      ]
    },
    {
      "cell_type": "code",
      "metadata": {
        "id": "lmhJUSs2Rjvh"
      },
      "source": [
        "import numpy as np\n",
        "import matplotlib.pyplot as plt \n",
        "import os\n",
        "# ADD ANY IMPORTS YOU WANT HERE\n"
      ],
      "execution_count": null,
      "outputs": []
    },
    {
      "cell_type": "markdown",
      "metadata": {
        "id": "XP-1yA7URVNn"
      },
      "source": [
        "# Task 0 - Complete the environment\n",
        "You need to complete part of the environment which calculates the possible next states, their probabilities, and the reward."
      ]
    },
    {
      "cell_type": "code",
      "metadata": {
        "id": "GumM6eyWRVNn"
      },
      "source": [
        "class GridEnv_HW2:\n",
        "    def __init__(self, \n",
        "                 goal_location, \n",
        "                 action_stochasticity,\n",
        "                 non_terminal_reward,\n",
        "                 terminal_reward,\n",
        "                 grey_in,\n",
        "                 brown_in,\n",
        "                 grey_out,\n",
        "                 brown_out\n",
        "                ):\n",
        "\n",
        "        # Do not edit this section \n",
        "        self.action_stochasticity = action_stochasticity\n",
        "        self.non_terminal_reward = non_terminal_reward\n",
        "        self.terminal_reward = terminal_reward\n",
        "        self.grid_size = [10, 10]\n",
        "\n",
        "        # Index of the actions \n",
        "        self.actions = {'N': (-1, 0), \n",
        "                        'E': (0,1), \n",
        "                        'S': (1,0), \n",
        "                        'W': (0,-1)}\n",
        "        \n",
        "        # Do not worry about the names not matching the direction you expect\n",
        "        # Think of them as generic names and use the mapping to get the action direction and stochasticity\n",
        "        self.perpendicular_order = ['N', 'E', 'S', 'W']\n",
        "        \n",
        "        l = ['normal' for _ in range(self.grid_size[0]) ]\n",
        "        self.grid = np.array([l for _ in range(self.grid_size[1]) ], dtype=object)\n",
        "\n",
        "        self.grid[goal_location[0], goal_location[1]] = 'goal'\n",
        "        self.goal_location = goal_location\n",
        "\n",
        "        for gi in grey_in:\n",
        "            self.grid[gi[0],gi[1]] = 'grey_in'\n",
        "        for bi in brown_in:    \n",
        "            self.grid[bi[0], bi[1]] = 'brown_in'\n",
        "\n",
        "        self.grey_out = go = grey_out\n",
        "        self.brown_out = bo = brown_out\n",
        "\n",
        "        self.grid[go[0], go[1]] = 'grey_out'\n",
        "        self.grid[bo[0], bo[1]] = 'brown_out'\n",
        "        \n",
        "        self.states_sanity_check()\n",
        "    \n",
        "    def states_sanity_check(self):\n",
        "        \"\"\" Implement to prevent cases where the goal gets overwritten etc \"\"\"\n",
        "        pass\n",
        "\n",
        "    def visualize_grid(self):\n",
        "        pass\n",
        "\n",
        "    def _out_of_grid(self, state):\n",
        "        if state[0] < 0 or state[1] < 0:\n",
        "            return True\n",
        "        elif state[0] > self.grid_size[0] - 1:\n",
        "            return True\n",
        "        elif state[1] > self.grid_size[1] - 1:\n",
        "            return True\n",
        "        else:\n",
        "            return False\n",
        "\n",
        "    def _grid_state(self, state):\n",
        "        return self.grid[state[0], state[1]]        \n",
        "        \n",
        "    def get_transition_probabilites_and_reward(self, state, action):\n",
        "        \"\"\" \n",
        "        Returns the probabiltity of all possible transitions for the given action in the form:\n",
        "        A list of tuples of (next_state, probability, reward)\n",
        "        Note that based on number of state and action there can be many different next states\n",
        "        Unless the state is All the probabilities of next states should add up to 1\n",
        "        \"\"\"\n",
        "\n",
        "        grid_state = self._grid_state(state)\n",
        "        \n",
        "        if grid_state == 'goal':\n",
        "            return [(self.goal_location, 1.0, 0.0)]\n",
        "        elif grid_state == 'grey_in':\n",
        "            return [(self.grey_out, 1.0, self.non_terminal_reward)]\n",
        "        elif grid_state == 'brown_in':\n",
        "            return [(self.brown_out, 1.0, self.non_terminal_reward)]\n",
        "        \n",
        "        direction = self.actions.get(action, None)\n",
        "        if direction is None:\n",
        "            raise ValueError(\"Invalid action %s , please select among\" % action, list(self.actions.keys()))\n",
        "\n",
        "        nextstates_prob_rews = []\n",
        "\n",
        "        # TASK 0 - Complete the environment\n",
        "\n",
        "        # ADD YOUR CODE BELOW - DO NOT EDIT ABOVE THIS LINE\n",
        "\n",
        "        idx = self.perpendicular_order.index(action)\n",
        "        for i in range(len(self.perpendicular_order)):\n",
        "          id = (idx + i)%(len(self.action_stochasticity))\n",
        "          step = self.actions.get(self.perpendicular_order[id], None)\n",
        "          ns = [state[0]+step[0], state[1]+step[1]]\n",
        "          pb = self.action_stochasticity[i]\n",
        "          if self._out_of_grid(ns):\n",
        "            nextstates_prob_rews.append((state, pb, self.non_terminal_reward))\n",
        "            continue\n",
        "          if self._grid_state(ns) == 'goal':\n",
        "            nextstates_prob_rews.append((ns, pb, self.terminal_reward))\n",
        "          else:\n",
        "            nextstates_prob_rews.append((ns, pb, self.non_terminal_reward))\n",
        "\n",
        "        # Hints: \n",
        "            # Get access to all actions with self.actions\n",
        "            # Use self.action_stochasticity for the probabilities of the other action\n",
        "                # The array will have probabilities for [0, 90, 180, -90] degrees\n",
        "                # So self.action_stochasticity = [0.8, 0.1, 0.0, 0.1] means 0.8 for forward and 0.1 for left and right\n",
        "            # Remember that you need to return a list of tuples with the form (next_state, probability, reward)\n",
        "            # If you have 3 possible next states, you should return [(ns1, p1, r1), (ns2, p2, r2), (ns3, p3, r3)]\n",
        "            # Use the helper function self._out_of_grid to check if any state is outside the grid\n",
        "            \n",
        "        # Important Note:\n",
        "            # Do not hard code any state locations, they may be changed in the submissions\n",
        "\n",
        "\n",
        "        # DO NOT EDIT BELOW THIS LINE\n",
        "\n",
        "        return nextstates_prob_rews"
      ],
      "execution_count": null,
      "outputs": []
    },
    {
      "cell_type": "markdown",
      "metadata": {
        "id": "vVL7B0cjSZyy"
      },
      "source": [
        "# Question - When do you decide to stop value iteration \n",
        "Modify this cell and add you answer"
      ]
    },
    {
      "cell_type": "markdown",
      "metadata": {
        "id": "AD3Jgj2JRVNp"
      },
      "source": [
        "# Task 1"
      ]
    },
    {
      "cell_type": "markdown",
      "metadata": {
        "id": "GIDOS51MWPU9"
      },
      "source": [
        "## a) Implement Value iteration"
      ]
    },
    {
      "cell_type": "code",
      "metadata": {
        "tags": [],
        "id": "45p2j33NRVNp"
      },
      "source": [
        "def value_iter(env):\n",
        "  value_grid = np.zeros((10, 10)) # Marked as J(s) in the homework pdf\n",
        "  policy = np.zeros((10, 10), np.int32) # Marked as pi(s) in homework pdf\n",
        "\n",
        "  value_grids = [] # Store all the J(s) grids at every iteration in this list\n",
        "  policies = []  # Store all the pi(s) grids at every iteration in this list\n",
        "\n",
        "  # ADD YOUR CODE BELOW - DO NOT EDIT ABOVE THIS LINE\n",
        "  val = np.zeros((10,10))\n",
        "  pol = np.zeros((10,10), np.int32)\n",
        "  while True:\n",
        "    delta = 0\n",
        "    for i in range(100):\n",
        "      state = [i//10, i%10]\n",
        "      max_rew = -99999999\n",
        "      best_act = 0\n",
        "      for act in env.perpendicular_order:\n",
        "        next_prob_rews = env.get_transition_probabilites_and_reward(state, act)\n",
        "        sum = 0\n",
        "        for el in next_prob_rews:\n",
        "          sum += el[1]*(el[2] + value_grid[el[0][0], el[0][1]])\n",
        "        if(sum > max_rew):\n",
        "          max_rew = sum\n",
        "          best_act = act\n",
        "\n",
        "      old_val = value_grid[state[0], state[1]]\n",
        "      # value_grid[state[0], state[1]] = max_rew\n",
        "      # policy[state[0], state[1]] = env.perpendicular_order.index(best_act)\n",
        "\n",
        "      val[state[0], state[1]] = max_rew\n",
        "      pol[state[0], state[1]] = env.perpendicular_order.index(best_act)\n",
        "      \n",
        "      delta = max(delta, abs(old_val - max_rew))\n",
        "    \n",
        "    value_grid = val.copy()\n",
        "    policy = pol.copy()\n",
        "    value_grids.append(value_grid.copy())\n",
        "    policies.append(policy.copy())\n",
        "\n",
        "    if delta < 0.00000001:\n",
        "      break\n",
        "\n",
        "  # DO NOT EDIT BELOW THIS LINE\n",
        "  results = {\"value_grid\": value_grid, \"pi_s\": policy}\n",
        "  return results, value_grids, policies"
      ],
      "execution_count": null,
      "outputs": []
    },
    {
      "cell_type": "markdown",
      "metadata": {
        "id": "mus58g6PCx0I"
      },
      "source": [
        "## Here is an example of what the \"results\" output from value_iter function should look like\n",
        "\n",
        "**The numpy array may look different from the image given in the pdf because the origins are different, do not worry about this, use indexing and directions as providided by the env class (env.actions) and do not hard code anything.**\n",
        "\n",
        "Ofcourse, it won't be all zeros\n",
        "\n",
        "``` python \n",
        "{'value_grid': array([[0., 0., 0., 0., 0., 0., 0., 0., 0., 0.],\n",
        "         [0., 0., 0., 0., 0., 0., 0., 0., 0., 0.],\n",
        "         [0., 0., 0., 0., 0., 0., 0., 0., 0., 0.],\n",
        "         [0., 0., 0., 0., 0., 0., 0., 0., 0., 0.],\n",
        "         [0., 0., 0., 0., 0., 0., 0., 0., 0., 0.],\n",
        "         [0., 0., 0., 0., 0., 0., 0., 0., 0., 0.],\n",
        "         [0., 0., 0., 0., 0., 0., 0., 0., 0., 0.],\n",
        "         [0., 0., 0., 0., 0., 0., 0., 0., 0., 0.],\n",
        "         [0., 0., 0., 0., 0., 0., 0., 0., 0., 0.],\n",
        "         [0., 0., 0., 0., 0., 0., 0., 0., 0., 0.]]),\n",
        "  'pi_s': array([[0, 0, 0, 0, 0, 0, 0, 0, 0, 0],\n",
        "         [0, 0, 0, 0, 0, 0, 0, 0, 0, 0],\n",
        "         [0, 0, 0, 0, 0, 0, 0, 0, 0, 0],\n",
        "         [0, 0, 0, 0, 0, 0, 0, 0, 0, 0],\n",
        "         [0, 0, 0, 0, 0, 0, 0, 0, 0, 0],\n",
        "         [0, 0, 0, 0, 0, 0, 0, 0, 0, 0],\n",
        "         [0, 0, 0, 0, 0, 0, 0, 0, 0, 0],\n",
        "         [0, 0, 0, 0, 0, 0, 0, 0, 0, 0],\n",
        "         [0, 0, 0, 0, 0, 0, 0, 0, 0, 0],\n",
        "         [0, 0, 0, 0, 0, 0, 0, 0, 0, 0]], dtype=int32)}\n",
        "```"
      ]
    },
    {
      "cell_type": "code",
      "metadata": {
        "id": "vLF4WYcrAx1r",
        "colab": {
          "base_uri": "https://localhost:8080/"
        },
        "outputId": "a852e435-4ba7-49dd-8bce-9ba921942631"
      },
      "source": [
        "# DO NOT EDIT THIS CELL, DURING EVALUATION THE DATASET DIR WILL CHANGE\n",
        "!mkdir $AICROWD_RESULTS_DIR\n",
        "input_dir = os.path.join(DATASET_DIR, 'inputs')\n",
        "for params_file in os.listdir(input_dir):\n",
        "  kwargs = np.load(os.path.join(input_dir, params_file), allow_pickle=True).item()\n",
        "  env = GridEnv_HW2(**kwargs)\n",
        "  results, value_grids, policies = value_iter(env)\n",
        "  idx = params_file.split('_')[-1][:-4]\n",
        "  np.save(os.path.join(AICROWD_RESULTS_DIR, 'results_' + idx), results)"
      ],
      "execution_count": null,
      "outputs": [
        {
          "output_type": "stream",
          "text": [
            "mkdir: cannot create directory ‘results’: File exists\n"
          ],
          "name": "stdout"
        }
      ]
    },
    {
      "cell_type": "markdown",
      "metadata": {
        "id": "S8IVf3N9VuNZ"
      },
      "source": [
        "#Task 2 - The value iteration loop goes to infinity (refer the pseudocode given above), so when would you stop your value iteration?"
      ]
    },
    {
      "cell_type": "markdown",
      "metadata": {
        "id": "ahKp_WLoYFN_"
      },
      "source": [
        "Modify this cell and add you answer"
      ]
    },
    {
      "cell_type": "markdown",
      "metadata": {
        "id": "K2r-zLDhRVNp"
      },
      "source": [
        "# Task 3- Plot graph of $||J_{i+1}(s) - J_i(s)||$\n",
        "An example plot code is provided below, but you can change it if you want"
      ]
    },
    {
      "cell_type": "code",
      "metadata": {
        "id": "ZFXPt6m6RVNq",
        "colab": {
          "base_uri": "https://localhost:8080/",
          "height": 284
        },
        "outputId": "85dd7c36-f0b3-4cca-b955-fb54852972cc"
      },
      "source": [
        "import matplotlib.pyplot as plt\n",
        "diffs = []\n",
        "for ii in range(len(value_grids)-1):\n",
        "    diff = np.linalg.norm(value_grids[ii+1] - value_grids[ii]) \n",
        "    diffs.append(diff)\n",
        "plt.plot(diffs)"
      ],
      "execution_count": null,
      "outputs": [
        {
          "output_type": "execute_result",
          "data": {
            "text/plain": [
              "[<matplotlib.lines.Line2D at 0x7f35cbc60850>]"
            ]
          },
          "metadata": {
            "tags": []
          },
          "execution_count": 10
        },
        {
          "output_type": "display_data",
          "data": {
            "image/png": "[encoded data removed]",
            "text/plain": [
              "<Figure size 432x288 with 1 Axes>"
            ]
          },
          "metadata": {
            "tags": [],
            "needs_background": "light"
          }
        }
      ]
    },
    {
      "cell_type": "markdown",
      "metadata": {
        "id": "tsEaK9L4RoZd"
      },
      "source": [
        "# Task 4 - Show $J(s)$ and $pi(s)$ after 10, 25 and final iteration. "
      ]
    },
    {
      "cell_type": "code",
      "metadata": {
        "id": "z0jPnRLvR-DF"
      },
      "source": [
        "# Use any visualization code you want to show the value and policies\n",
        "J10 = value_grids[9]\n",
        "pi10 = policies[9]\n",
        "\n",
        "J25 = value_grids[24]\n",
        "pi25 = policies[24]\n",
        "\n",
        "J_star = results['value_grid']\n",
        "pi_star = results['pi_s']\n"
      ],
      "execution_count": null,
      "outputs": []
    },
    {
      "cell_type": "code",
      "metadata": {
        "colab": {
          "base_uri": "https://localhost:8080/",
          "height": 283
        },
        "id": "MpRLojpYh_8S",
        "outputId": "6d1ad583-0fe8-427f-b8c3-064110303707"
      },
      "source": [
        "plt.imshow(J10)"
      ],
      "execution_count": null,
      "outputs": [
        {
          "output_type": "execute_result",
          "data": {
            "text/plain": [
              "<matplotlib.image.AxesImage at 0x7f35cb74d310>"
            ]
          },
          "metadata": {
            "tags": []
          },
          "execution_count": 12
        },
        {
          "output_type": "display_data",
          "data": {
            "image/png": "[encoded data removed]",
            "text/plain": [
              "<Figure size 432x288 with 1 Axes>"
            ]
          },
          "metadata": {
            "tags": [],
            "needs_background": "light"
          }
        }
      ]
    },
    {
      "cell_type": "code",
      "metadata": {
        "colab": {
          "base_uri": "https://localhost:8080/",
          "height": 460
        },
        "id": "uJPfcYA-iAEg",
        "outputId": "d1bb4383-967e-4514-c693-0fa8063ba84c"
      },
      "source": [
        "print(pi10)\n",
        "plt.imshow(pi10) \n"
      ],
      "execution_count": null,
      "outputs": [
        {
          "output_type": "stream",
          "text": [
            "[[0 1 1 1 1 1 1 2 3 3]\n",
            " [1 1 1 1 1 1 1 0 3 3]\n",
            " [0 1 1 1 1 1 0 0 0 3]\n",
            " [0 0 0 1 1 1 0 0 0 2]\n",
            " [0 0 0 1 1 1 1 0 2 2]\n",
            " [0 0 0 1 1 1 1 1 2 2]\n",
            " [0 0 0 1 1 1 1 1 2 2]\n",
            " [0 1 1 1 1 1 1 1 2 2]\n",
            " [1 1 1 1 1 1 1 1 1 2]\n",
            " [1 1 1 1 1 1 1 1 1 0]]\n"
          ],
          "name": "stdout"
        },
        {
          "output_type": "execute_result",
          "data": {
            "text/plain": [
              "<matplotlib.image.AxesImage at 0x7f35cb6ef110>"
            ]
          },
          "metadata": {
            "tags": []
          },
          "execution_count": 13
        },
        {
          "output_type": "display_data",
          "data": {
            "image/png": "[encoded data removed]",
            "text/plain": [
              "<Figure size 432x288 with 1 Axes>"
            ]
          },
          "metadata": {
            "tags": [],
            "needs_background": "light"
          }
        }
      ]
    },
    {
      "cell_type": "code",
      "metadata": {
        "colab": {
          "base_uri": "https://localhost:8080/",
          "height": 283
        },
        "id": "xQTOqThaiJzh",
        "outputId": "a5af0d53-1828-4a57-fe1e-e538f985c827"
      },
      "source": [
        "plt.imshow(J25) \n"
      ],
      "execution_count": null,
      "outputs": [
        {
          "output_type": "execute_result",
          "data": {
            "text/plain": [
              "<matplotlib.image.AxesImage at 0x7f35cb6946d0>"
            ]
          },
          "metadata": {
            "tags": []
          },
          "execution_count": 14
        },
        {
          "output_type": "display_data",
          "data": {
            "image/png": "[encoded data removed]",
            "text/plain": [
              "<Figure size 432x288 with 1 Axes>"
            ]
          },
          "metadata": {
            "tags": [],
            "needs_background": "light"
          }
        }
      ]
    },
    {
      "cell_type": "code",
      "metadata": {
        "colab": {
          "base_uri": "https://localhost:8080/",
          "height": 460
        },
        "id": "VISzX6L7iJ1y",
        "outputId": "995eef0f-a57a-4956-d212-80ee0ce792d7"
      },
      "source": [
        "print(pi25)\n",
        "plt.imshow(pi25)\n"
      ],
      "execution_count": null,
      "outputs": [
        {
          "output_type": "stream",
          "text": [
            "[[1 1 1 1 1 1 1 2 3 3]\n",
            " [1 1 1 1 1 1 1 0 3 3]\n",
            " [1 1 1 1 1 1 0 0 0 3]\n",
            " [0 0 0 1 1 1 0 0 0 2]\n",
            " [1 1 0 1 1 1 0 0 2 2]\n",
            " [2 2 0 1 1 1 1 1 2 2]\n",
            " [2 2 0 1 1 1 1 2 2 2]\n",
            " [2 1 2 1 1 1 1 1 2 2]\n",
            " [1 1 1 1 1 1 1 1 1 2]\n",
            " [1 1 1 1 1 1 1 1 1 0]]\n"
          ],
          "name": "stdout"
        },
        {
          "output_type": "execute_result",
          "data": {
            "text/plain": [
              "<matplotlib.image.AxesImage at 0x7f35cb5f2e50>"
            ]
          },
          "metadata": {
            "tags": []
          },
          "execution_count": 15
        },
        {
          "output_type": "display_data",
          "data": {
            "image/png": "[encoded data removed]",
            "text/plain": [
              "<Figure size 432x288 with 1 Axes>"
            ]
          },
          "metadata": {
            "tags": [],
            "needs_background": "light"
          }
        }
      ]
    },
    {
      "cell_type": "code",
      "metadata": {
        "colab": {
          "base_uri": "https://localhost:8080/",
          "height": 638
        },
        "id": "D8i7bo55iJ8h",
        "outputId": "359d3d56-cdab-4196-c132-febf37237048"
      },
      "source": [
        "plt.imshow(J_star)\n",
        "print('J*(s) is very similar to J25(s)')\n",
        "print(J25)"
      ],
      "execution_count": null,
      "outputs": [
        {
          "output_type": "stream",
          "text": [
            "J*(s) is very similar to J25(s)\n",
            "[[87.16940488 88.49488277 89.76977354 91.00868657 92.22095343 93.40683607\n",
            "  94.56107125 95.6742221  94.56121939 93.40842479]\n",
            " [87.05911146 88.53008414 89.94082971 91.34844262 92.7474541  94.17957824\n",
            "  95.65836644 97.20267882 95.65966217 94.1921982 ]\n",
            " [86.0964158  87.57377008 89.00410901 90.53594129 91.83853865 93.12743135\n",
            "  94.40334487 95.64380651 94.41580112 93.24067842]\n",
            " [84.64312091 85.99528918 86.07369653 89.41107929 90.64969142 91.88652909\n",
            "  93.12450416 94.15051636 93.23645367 92.89801273]\n",
            " [83.33448956 84.77819363 86.07369653 88.51191935 89.65952568 90.77119688\n",
            "  91.85722945 92.83500689 93.3104364  94.10717663]\n",
            " [83.87897472 84.89722628 86.07369653 88.6989499  89.87884896 91.04497828\n",
            "  92.20276368 93.35712558 94.52163553 95.45740346]\n",
            " [85.3467623  86.44126213 86.07369653 89.63433488 90.87026102 92.1027192\n",
            "  93.3356058  94.57395781 95.80066728 96.82464206]\n",
            " [86.70226061 87.98651258 89.35087078 90.80018035 92.06350543 93.31989311\n",
            "  94.57395781 95.82582905 97.07624577 98.2027006 ]\n",
            " [87.88984112 89.27285654 90.61131344 91.93504578 93.22895427 94.51787466\n",
            "  95.80066728 97.07624577 98.34178506 99.59352915]\n",
            " [88.64960977 90.02924792 91.39150307 92.74424126 94.09772814 95.45697617\n",
            "  96.82464206 98.2027006  99.59352915  0.        ]]\n"
          ],
          "name": "stdout"
        },
        {
          "output_type": "display_data",
          "data": {
            "image/png": "[encoded data removed]",
            "text/plain": [
              "<Figure size 432x288 with 1 Axes>"
            ]
          },
          "metadata": {
            "tags": [],
            "needs_background": "light"
          }
        }
      ]
    },
    {
      "cell_type": "code",
      "metadata": {
        "colab": {
          "base_uri": "https://localhost:8080/",
          "height": 443
        },
        "id": "Mqb8kWfBiJ-5",
        "outputId": "99cf2cb4-cf8d-4486-f96f-aa9e30897485"
      },
      "source": [
        "plt.imshow(pi_star)\n",
        "print(pi_star)"
      ],
      "execution_count": null,
      "outputs": [
        {
          "output_type": "stream",
          "text": [
            "[[1 1 1 1 1 1 1 2 3 3]\n",
            " [1 1 1 1 1 1 1 0 3 3]\n",
            " [1 1 1 1 1 1 0 0 0 3]\n",
            " [0 0 0 1 1 1 0 0 0 2]\n",
            " [0 1 0 1 1 1 0 0 2 2]\n",
            " [2 2 0 1 1 1 1 1 2 2]\n",
            " [2 2 0 1 1 1 1 2 2 2]\n",
            " [2 1 2 1 1 1 1 1 2 2]\n",
            " [1 1 1 1 1 1 1 1 1 2]\n",
            " [1 1 1 1 1 1 1 1 1 0]]\n"
          ],
          "name": "stdout"
        },
        {
          "output_type": "display_data",
          "data": {
            "image/png": "[encoded data removed]",
            "text/plain": [
              "<Figure size 432x288 with 1 Axes>"
            ]
          },
          "metadata": {
            "tags": [],
            "needs_background": "light"
          }
        }
      ]
    },
    {
      "cell_type": "markdown",
      "metadata": {
        "id": "NaE7G1FOSLhD"
      },
      "source": [
        "# Task 5 - Consider a new gridworld (GridWorld-2) as shown Figure 2 (GridWorld-2 differ from GridWorld-1 only in the position of the “Goal” state). Compare and contrast the behavior of J and greedy policy π for GridWorld-1 and GridWorld-2\n"
      ]
    },
    {
      "cell_type": "markdown",
      "metadata": {
        "id": "Cyik1NmZYC5s"
      },
      "source": [
        "The only difference these two have is in the 'goal' state. Shifted from (9,9) to (0,3). Since the goal is in the corner in GW-1, we get an incresing trend of values as we go further away from goal. Now the goal being shifted to the 1st row, we have weights centred away from that point. \\\n",
        "Also, as we can see in GridWorld-1, the optimum oplicy tends to avoid the grey-entry wormholes, but in contrast, it will act as a shortcut for GridWorld-2's optimal policy.\\\n",
        "If we look into the brown wormhole entry in GridWorld-1, it attracts from nearby cells, but since the OUT point is farther in GridWorld-2, optimal policy for that will avoid it now."
      ]
    },
    {
      "cell_type": "markdown",
      "metadata": {
        "id": "8pNWylwjjCT1"
      },
      "source": [
        "# Submit to AIcrowd 🚀"
      ]
    },
    {
      "cell_type": "code",
      "metadata": {
        "id": "AcCElHZnjDbI",
        "colab": {
          "base_uri": "https://localhost:8080/"
        },
        "outputId": "5368e81e-915a-4c6e-fdc2-de49447f33d4"
      },
      "source": [
        "!DATASET_PATH=$AICROWD_DATASET_PATH aicrowd notebook submit -c rl-vi -a assets"
      ],
      "execution_count": null,
      "outputs": [
        {
          "output_type": "stream",
          "text": [
            "WARNING: No assets directory at assets... Creating one...\n",
            "Using notebook: /content/CS17B103%20new%20IITM_RL_VI_v1.ipynb for submission...\n",
            "\u001b[1;34mMounting Google Drive 💾\u001b[0m\n",
            "Your Google Drive will be mounted to access the colab notebook\n",
            "Go to this URL in a browser: https://accounts.google.com/o/oauth2/auth?client_id=947318989803-6bn6qk8qdgf4n4g3pfee6491hc0brc4i.apps.googleusercontent.com&redirect_uri=urn%3aietf%3awg%3aoauth%3a2.0%3aoob&scope=email%20https%3a%2f%2fwww.googleapis.com%2fauth%2fdocs.test%20https%3a%2f%2fwww.googleapis.com%2fauth%2fdrive%20https%3a%2f%2fwww.googleapis.com%2fauth%2fdrive.photos.readonly%20https%3a%2f%2fwww.googleapis.com%2fauth%2fpeopleapi.readonly%20https%3a%2f%2fwww.googleapis.com%2fauth%2fdrive.activity.readonly%20https%3a%2f%2fwww.googleapis.com%2fauth%2fphotos.native&response_type=code\n",
            "\n",
            "Enter your authorization code:\n",
            "4/1AY0e-g7dOdSRtAieXROgbfPOFlVulZ-F5-YMZg-WmU0cCSHTQPRnRyZhQR0\n",
            "Mounted at /content/drive\n",
            "Scrubbing API keys from the notebook...\n",
            "Collecting notebook...\n",
            "Validating the submission...\n",
            "Executing install.ipynb...\n",
            "[NbConvertApp] Converting notebook /content/submission/install.ipynb to notebook\n",
            "[NbConvertApp] Executing notebook with kernel: python3\n",
            "[NbConvertApp] Writing 1367 bytes to /content/submission/install.nbconvert.ipynb\n",
            "Executing predict.ipynb...\n",
            "[NbConvertApp] Converting notebook /content/submission/predict.ipynb to notebook\n",
            "[NbConvertApp] Executing notebook with kernel: python3\n",
            "[NbConvertApp] ERROR | unhandled iopub msg: colab_request\n",
            "[NbConvertApp] ERROR | unhandled iopub msg: colab_request\n",
            "[NbConvertApp] ERROR | unhandled iopub msg: colab_request\n",
            "[NbConvertApp] ERROR | unhandled iopub msg: colab_request\n",
            "[NbConvertApp] ERROR | unhandled iopub msg: colab_request\n",
            "[NbConvertApp] ERROR | unhandled iopub msg: colab_request\n",
            "[NbConvertApp] ERROR | unhandled iopub msg: colab_request\n",
            "[NbConvertApp] ERROR | unhandled iopub msg: colab_request\n",
            "[NbConvertApp] ERROR | unhandled iopub msg: colab_request\n",
            "[NbConvertApp] ERROR | unhandled iopub msg: colab_request\n",
            "[NbConvertApp] ERROR | unhandled iopub msg: colab_request\n",
            "[NbConvertApp] ERROR | unhandled iopub msg: colab_request\n",
            "[NbConvertApp] Writing 62050 bytes to /content/submission/predict.nbconvert.ipynb\n",
            "\u001b[2K\u001b[1;34msubmission.zip\u001b[0m \u001b[90m━━━━━━━━━━━━━━━━━━━━━━\u001b[0m \u001b[35m100.0%\u001b[0m • \u001b[32m21.8/20.2 KB\u001b[0m • \u001b[31m2.1 MB/s\u001b[0m • \u001b[36m0:00:00\u001b[0m\n",
            "\u001b[?25h                                   ╭─────────────────────────╮                                    \n",
            "                                   │ \u001b[1mSuccessfully submitted!\u001b[0m │                                    \n",
            "                                   ╰─────────────────────────╯                                    \n",
            "\u001b[3m                                         Important links                                          \u001b[0m\n",
            "┌──────────────────┬─────────────────────────────────────────────────────────────────────────────┐\n",
            "│  This submission │ https://www.aicrowd.com/challenges/rliitm-1/submissions/126583              │\n",
            "│                  │                                                                             │\n",
            "│  All submissions │ https://www.aicrowd.com/challenges/rliitm-1/submissions?my_submissions=true │\n",
            "│                  │                                                                             │\n",
            "│      Leaderboard │ https://www.aicrowd.com/challenges/rliitm-1/leaderboards                    │\n",
            "│                  │                                                                             │\n",
            "│ Discussion forum │ https://discourse.aicrowd.com/c/rliitm-1                                    │\n",
            "│                  │                                                                             │\n",
            "│   Challenge page │ https://www.aicrowd.com/challenges/rliitm-1                                 │\n",
            "└──────────────────┴─────────────────────────────────────────────────────────────────────────────┘\n"
          ],
          "name": "stdout"
        }
      ]
    },
    {
      "cell_type": "code",
      "metadata": {
        "id": "AQIQi6-bMH8Q"
      },
      "source": [
        ""
      ],
      "execution_count": null,
      "outputs": []
    }
  ]
}