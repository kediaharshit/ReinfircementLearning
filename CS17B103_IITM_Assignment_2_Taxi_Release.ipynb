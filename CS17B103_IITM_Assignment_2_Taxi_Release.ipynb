{
  "nbformat": 4,
  "nbformat_minor": 0,
  "metadata": {
    "language_info": {
      "codemirror_mode": {
        "name": "ipython",
        "version": 3
      },
      "file_extension": ".py",
      "mimetype": "text/x-python",
      "name": "python",
      "nbconvert_exporter": "python",
      "pygments_lexer": "ipython3",
      "version": "3.8.8-final"
    },
    "orig_nbformat": 2,
    "kernelspec": {
      "name": "python3",
      "display_name": "Python 3.8.8 64-bit ('torch': conda)",
      "metadata": {
        "interpreter": {
          "hash": "d8957633bcb1ab41d2dfd9b11a55d25ae2b194ad0d644559562952e6e1dd74ed"
        }
      }
    },
    "colab": {
      "name": "CS17B103_IITM_Assignment_2_Taxi_Release.ipynb",
      "provenance": [],
      "collapsed_sections": []
    }
  },
  "cells": [
    {
      "cell_type": "markdown",
      "metadata": {
        "id": "OPHFJWwR7HNC"
      },
      "source": [
        "# What is the notebook about?\n",
        "\n",
        "## Problem - Taxi Environment Algorithms\n",
        "This problem deals with a taxi environment and stochastic actions. The tasks you have to do are:\n",
        "- Implement Policy Iteration\n",
        "- Implement Modified Policy Iteration\n",
        "- Implement Value Iteration\n",
        "- Implement Gauss Seidel Value Iteration\n",
        "- Visualize the results\n",
        "- Explain the results\n",
        "\n",
        "## How to use this notebook? 📝\n",
        "\n",
        "- This is a shared template and any edits you make here will not be saved.**You\n",
        "should make a copy in your own drive**. Click the \"File\" menu (top-left), then \"Save a Copy in Drive\". You will be working in your copy however you like.\n",
        "\n",
        "- **Update the config parameters**. You can define the common variables here\n",
        "\n",
        "Variable | Description\n",
        "--- | ---\n",
        "`AICROWD_DATASET_PATH` | Path to the file containing test data. This should be an absolute path.\n",
        "`AICROWD_RESULTS_DIR` | Path to write the output to.\n",
        "`AICROWD_ASSETS_DIR` | In case your notebook needs additional files (like model weights, etc.,), you can add them to a directory and specify the path to the directory here (please specify relative path). The contents of this directory will be sent to AIcrowd for evaluation.\n",
        "`AICROWD_API_KEY` | In order to submit your code to AIcrowd, you need to provide your account's API key. This key is available at https://www.aicrowd.com/participants/me\n",
        "\n",
        "- **Installing packages**. Please use the [Install packages 🗃](#install-packages-) section to install the packages"
      ]
    },
    {
      "cell_type": "markdown",
      "metadata": {
        "id": "ptuVBElL7a_Q"
      },
      "source": [
        "# Setup AIcrowd Utilities 🛠\n",
        "\n",
        "We use this to bundle the files for submission and create a submission on AIcrowd. Do not edit this block."
      ]
    },
    {
      "cell_type": "code",
      "metadata": {
        "id": "tNJf2Sbr7SJi",
        "colab": {
          "base_uri": "https://localhost:8080/"
        },
        "outputId": "729882bf-015b-43c8-ef41-dc301155c57e"
      },
      "source": [
        "!pip install aicrowd-cli > /dev/null "
      ],
      "execution_count": null,
      "outputs": [
        {
          "output_type": "stream",
          "text": [
            "\u001b[31mERROR: google-colab 1.0.0 has requirement requests~=2.23.0, but you'll have requests 2.25.1 which is incompatible.\u001b[0m\n",
            "\u001b[31mERROR: datascience 0.10.6 has requirement folium==0.2.1, but you'll have folium 0.8.3 which is incompatible.\u001b[0m\n"
          ],
          "name": "stdout"
        }
      ]
    },
    {
      "cell_type": "markdown",
      "metadata": {
        "id": "rFWOq2qu7b82"
      },
      "source": [
        "# AIcrowd Runtime Configuration 🧷\n",
        "\n",
        "Get login API key from https://www.aicrowd.com/participants/me"
      ]
    },
    {
      "cell_type": "code",
      "metadata": {
        "id": "biiQDqp87PJ-"
      },
      "source": [
        "import os\n",
        "\n",
        "AICROWD_DATASET_PATH = os.getenv(\"DATASET_PATH\", os.getcwd()+\"/13d77bb0-b325-4e95-a03b-833eb6694acd_a2_taxi_inputs.zip\")\n",
        "AICROWD_RESULTS_DIR = os.getenv(\"OUTPUTS_DIR\", \"results\")\n",
        "API_KEY = \"\" # Get your key from https://www.aicrowd.com/participants/me"
      ],
      "execution_count": null,
      "outputs": []
    },
    {
      "cell_type": "code",
      "metadata": {
        "id": "-JCfa_Ee7h66",
        "colab": {
          "base_uri": "https://localhost:8080/"
        },
        "outputId": "0bf77420-8a97-42e3-db70-1a17ecb6011e"
      },
      "source": [
        "!aicrowd login --api-key $API_KEY\n",
        "!aicrowd dataset download -c iit-m-rl-assignment-2-taxi"
      ],
      "execution_count": null,
      "outputs": [
        {
          "output_type": "stream",
          "text": [
            "\u001b[32mAPI Key valid\u001b[0m\n",
            "\u001b[32mSaved API Key successfully!\u001b[0m\n",
            "13d77bb0-b325-4e95-a03b-833eb6694acd_a2_taxi_inputs.zip: 100% 31.2k/31.2k [00:00<00:00, 257kB/s]\n"
          ],
          "name": "stdout"
        }
      ]
    },
    {
      "cell_type": "code",
      "metadata": {
        "id": "pqcOVqMs8x02",
        "colab": {
          "base_uri": "https://localhost:8080/"
        },
        "outputId": "a311ff8c-0edc-48be-c6e7-c00acf47b0a9"
      },
      "source": [
        "!unzip $AICROWD_DATASET_PATH"
      ],
      "execution_count": null,
      "outputs": [
        {
          "output_type": "stream",
          "text": [
            "Archive:  /content/13d77bb0-b325-4e95-a03b-833eb6694acd_a2_taxi_inputs.zip\n",
            "   creating: inputs/\n",
            "  inflating: inputs/inputs_base.npy  \n",
            "  inflating: inputs/inputs_1.npy     \n",
            "  inflating: inputs/inputs_0.npy     \n",
            "  inflating: inputs/inputs_2.npy     \n",
            "   creating: targets/\n",
            "  inflating: targets/targets_2.npy   \n",
            "  inflating: targets/targets_0.npy   \n",
            "  inflating: targets/targets_1.npy   \n",
            "  inflating: targets/targets_base.npy  \n"
          ],
          "name": "stdout"
        }
      ]
    },
    {
      "cell_type": "code",
      "metadata": {
        "id": "2YcYZKhw8z4m"
      },
      "source": [
        "DATASET_DIR = 'inputs/'"
      ],
      "execution_count": null,
      "outputs": []
    },
    {
      "cell_type": "markdown",
      "metadata": {
        "id": "bRjIX2e57HNG"
      },
      "source": [
        "## Taxi Environment\n",
        "\n",
        "Read the environment to understand the functions, but do not edit anything"
      ]
    },
    {
      "cell_type": "code",
      "metadata": {
        "id": "aq4-ItQk7HNH"
      },
      "source": [
        "import numpy as np\n",
        "\n",
        "class TaxiEnv_HW2:\n",
        "    def __init__(self, states, actions, probabilities, rewards, initial_policy):\n",
        "        self.possible_states = states\n",
        "        self._possible_actions = {st: ac for st, ac in zip(states, actions)}\n",
        "        self._ride_probabilities = {st: pr for st, pr in zip(states, probabilities)}\n",
        "        self._ride_rewards = {st: rw for st, rw in zip(states, rewards)}\n",
        "        self.initial_policy = initial_policy\n",
        "        self._verify()\n",
        "\n",
        "    def _check_state(self, state):\n",
        "        assert state in self.possible_states, \"State %s is not a valid state\" % state\n",
        "\n",
        "    def _verify(self):\n",
        "        \"\"\" \n",
        "        Verify that data conditions are met:\n",
        "        Number of actions matches shape of next state and actions\n",
        "        Every probability distribution adds up to 1 \n",
        "        \"\"\"\n",
        "        ns = len(self.possible_states)\n",
        "        for state in self.possible_states:\n",
        "            ac = self._possible_actions[state]\n",
        "            na = len(ac)\n",
        "\n",
        "            rp = self._ride_probabilities[state]\n",
        "            assert np.all(rp.shape == (na, ns)), \"Probabilities shape mismatch\"\n",
        "        \n",
        "            rr = self._ride_rewards[state]\n",
        "            assert np.all(rr.shape == (na, ns)), \"Rewards shape mismatch\"\n",
        "\n",
        "            assert np.allclose(rp.sum(axis=1), 1), \"Probabilities don't add up to 1\"\n",
        "\n",
        "    def possible_actions(self, state):\n",
        "        \"\"\" Return all possible actions from a given state \"\"\"\n",
        "        self._check_state(state)\n",
        "        return self._possible_actions[state]\n",
        "\n",
        "    def ride_probabilities(self, state, action):\n",
        "        \"\"\" \n",
        "        Returns all possible ride probabilities from a state for a given action\n",
        "        For every action a list with the returned with values in the same order as self.possible_states\n",
        "        \"\"\"\n",
        "        actions = self.possible_actions(state)\n",
        "        ac_idx = actions.index(action)\n",
        "        return self._ride_probabilities[state][ac_idx]\n",
        "\n",
        "    def ride_rewards(self, state, action):\n",
        "        actions = self.possible_actions(state)\n",
        "        ac_idx = actions.index(action)\n",
        "        return self._ride_rewards[state][ac_idx]"
      ],
      "execution_count": null,
      "outputs": []
    },
    {
      "cell_type": "markdown",
      "metadata": {
        "id": "KCibTtAz7HNH"
      },
      "source": [
        "## Example of Environment usage"
      ]
    },
    {
      "cell_type": "code",
      "metadata": {
        "id": "OHOhT4UQ7HNI",
        "colab": {
          "base_uri": "https://localhost:8080/"
        },
        "outputId": "07790477-da57-40cf-dad9-ae315f920246"
      },
      "source": [
        "def check_taxienv():\n",
        "    # These are the values as used in the pdf, but they may be changed during submission, so do not hardcode anything\n",
        "\n",
        "    states = ['A', 'B', 'C']\n",
        "\n",
        "    actions = [['1','2','3'], ['1','2'], ['1','2','3']]\n",
        "\n",
        "    probs = [np.array([[1/2,  1/4,  1/4],\n",
        "                    [1/16, 3/4,  3/16],\n",
        "                    [1/4,  1/8,  5/8]]),\n",
        "\n",
        "            np.array([[1/2,   0,     1/2],\n",
        "                    [1/16,  7/8,  1/16]]),\n",
        "\n",
        "            np.array([[1/4,  1/4,  1/2],\n",
        "                    [1/8,  3/4,  1/8],\n",
        "                    [3/4,  1/16, 3/16]]),]\n",
        "\n",
        "    rewards = [np.array([[10,  4,  8],\n",
        "                        [ 8,  2,  4],\n",
        "                        [ 4,  6,  4]]),\n",
        "\n",
        "            np.array([[14,  0, 18],\n",
        "                        [ 8, 16,  8]]),\n",
        "\n",
        "            np.array([[10,  2,  8],\n",
        "                        [6,   4,  2],\n",
        "                        [4,   0,  8]]),]\n",
        "    initial_policy = {'A': '1', 'B': '1', 'C': '1'}\n",
        "\n",
        "    env = TaxiEnv_HW2(states, actions, probs, rewards, initial_policy)\n",
        "    print(\"All possible states\", env.possible_states)\n",
        "    print(\"All possible actions from state B\", env.possible_actions('B'))\n",
        "    print(\"Ride probabilities from state A with action 2\", env.ride_probabilities('A', '2'))\n",
        "    print(\"Ride rewards from state C with action 3\", env.ride_rewards('C', '3'))\n",
        "\n",
        "    base_kwargs = {\"states\": states, \"actions\": actions, \n",
        "                \"probabilities\": probs, \"rewards\": rewards,\n",
        "                \"initial_policy\": initial_policy}\n",
        "    return base_kwargs\n",
        "\n",
        "base_kwargs = check_taxienv()\n",
        "env = TaxiEnv_HW2(**base_kwargs)"
      ],
      "execution_count": null,
      "outputs": [
        {
          "output_type": "stream",
          "text": [
            "All possible states ['A', 'B', 'C']\n",
            "All possible actions from state B ['1', '2']\n",
            "Ride probabilities from state A with action 2 [0.0625 0.75   0.1875]\n",
            "Ride rewards from state C with action 3 [4 0 8]\n"
          ],
          "name": "stdout"
        }
      ]
    },
    {
      "cell_type": "markdown",
      "metadata": {
        "id": "ANj-Soeb7HNI"
      },
      "source": [
        "## Task 1 - Policy Iteration\n",
        "Run policy iteration on the environment and generate the policy and expected reward"
      ]
    },
    {
      "cell_type": "code",
      "metadata": {
        "tags": [],
        "id": "SArJ5e0a7HNI",
        "colab": {
          "base_uri": "https://localhost:8080/"
        },
        "outputId": "3a6c03fd-d743-4265-f539-70b732060e0f"
      },
      "source": [
        "# 1.1 Policy Iteration\n",
        "def policy_iteration(taxienv, gamma):\n",
        "    # A list of all the states\n",
        "    states = taxienv.possible_states\n",
        "    # Initial values\n",
        "    values = {s: 0 for s in states}\n",
        "\n",
        "    # This is a dictionary of states to policies -> e.g {'A': '1', 'B': '2', 'C': '1'}\n",
        "    policy = taxienv.initial_policy.copy()\n",
        "\n",
        "    ## Begin code here\n",
        "    while True:\n",
        "      while True:\n",
        "        delta = 0\n",
        "        for s in states:\n",
        "          j = values[s]\n",
        "          probs = taxienv.ride_probabilities(s, policy[s])\n",
        "          rewards = taxienv.ride_rewards(s, policy[s])\n",
        "          exp_reward = 0\n",
        "          idx = 0\n",
        "          for ns in states:\n",
        "            exp_reward += probs[idx]*(rewards[idx] + gamma*values[ns])\n",
        "            idx += 1\n",
        "          values[s] = exp_reward\n",
        "          delta = max(delta, abs(j-values[s])) \n",
        "        if (delta < 1e-8):\n",
        "          break\n",
        "      done = 1\n",
        "      \n",
        "      for s in states:\n",
        "        b = policy[s]\n",
        "        max_val = -100000\n",
        "        max_pol = 1\n",
        "        for action in taxienv.possible_actions(s):\n",
        "          probs = taxienv.ride_probabilities(s, action)\n",
        "          rewards = taxienv.ride_rewards(s, action)\n",
        "          exp_reward = 0\n",
        "          idx= 0\n",
        "          for ns in states:\n",
        "            exp_reward += probs[idx]*(rewards[idx] + gamma*values[ns])\n",
        "            idx += 1\n",
        "          if exp_reward > max_val:\n",
        "            max_val = exp_reward\n",
        "            max_pol = action \n",
        "        policy[s] = max_pol\n",
        "        if (b != policy[s]):\n",
        "          done=0\n",
        "      if done==1:\n",
        "        break\n",
        "        \n",
        "    # Hints - \n",
        "    # Do not hardcode anything\n",
        "    # Only the final result is required for the results\n",
        "    # Put any extra data in \"extra_info\" dictonary for any plots etc\n",
        "    # Use the helper functions taxienv.ride_rewards, taxienv.ride_probabilities,  taxienv.possible_actions\n",
        "    # For terminating condition use the condition exactly mentioned in the pdf\n",
        "\n",
        "    \n",
        "    # Put your extra information needed for plots etc in this dictionary\n",
        "    extra_info = {}\n",
        "\n",
        "    ## Do not edit below this line\n",
        "\n",
        "    # Final results\n",
        "    return {\"Expected Reward\": values, \"Policy\": policy}, extra_info\n",
        "\n",
        "print(policy_iteration(env, 0.9))"
      ],
      "execution_count": null,
      "outputs": [
        {
          "output_type": "stream",
          "text": [
            "({'Expected Reward': {'A': 121.65347105207364, 'B': 135.30627545205246, 'C': 122.83690301136426}, 'Policy': {'A': '2', 'B': '2', 'C': '2'}}, {})\n"
          ],
          "name": "stdout"
        }
      ]
    },
    {
      "cell_type": "markdown",
      "metadata": {
        "id": "K6K2tWrK_wlL"
      },
      "source": [
        "# Task 2 - Policy Iteration for multiple values of gamma\n",
        "\n",
        "Ideally this code should run as is"
      ]
    },
    {
      "cell_type": "code",
      "metadata": {
        "id": "CTR9RLWc7HNJ"
      },
      "source": [
        "# 1.2 Policy Iteration with different values of gamma\n",
        "def run_policy_iteration(env):\n",
        "    gamma_values = np.arange(5, 100, 5)/100\n",
        "    results, extra_info = {}, {}\n",
        "    for gamma in gamma_values:\n",
        "        results[gamma], extra_info[gamma] = policy_iteration(env, gamma)\n",
        "    return results, extra_info\n",
        "\n",
        "results, extra_info = run_policy_iteration(env)"
      ],
      "execution_count": null,
      "outputs": []
    },
    {
      "cell_type": "markdown",
      "metadata": {
        "id": "-fLDL1D_ANAX"
      },
      "source": [
        "# Task 3 - Modifed Policy Iteration\n",
        "\n",
        "Implement modified policy iteration (where Value iteration is done for fixed m number of steps)"
      ]
    },
    {
      "cell_type": "code",
      "metadata": {
        "id": "cusnSLxm7HNJ",
        "colab": {
          "base_uri": "https://localhost:8080/"
        },
        "outputId": "00bddb05-19fb-4fec-cdda-6240abbb9ec5"
      },
      "source": [
        "# 1.3 Modified Policy Iteration\n",
        "def modified_policy_iteration(taxienv, gamma, m):\n",
        "    # A list of all the states\n",
        "    states = taxienv.possible_states\n",
        "    # Initial values\n",
        "    values = {s: 0 for s in states}\n",
        "\n",
        "    # This is a dictionary of states to policies -> e.g {'A': '1', 'B': '2', 'C': '1'}\n",
        "    policy = taxienv.initial_policy.copy()\n",
        "\n",
        "    ## Begin code here\n",
        "\n",
        "    while True:\n",
        "      for k in range(m):\n",
        "        val = values.copy()\n",
        "        for s in states:\n",
        "          probs = taxienv.ride_probabilities(s, policy[s])\n",
        "          rewards = taxienv.ride_rewards(s, policy[s])\n",
        "          exp_reward = 0\n",
        "          idx = 0\n",
        "          for ns in states:\n",
        "            exp_reward += probs[idx]*(rewards[idx] + gamma*val[ns])\n",
        "            idx += 1\n",
        "          values[s] = exp_reward\n",
        "          \n",
        "\n",
        "      done = 1      \n",
        "      for s in states:\n",
        "        b = policy[s]\n",
        "        max_val = -100000\n",
        "        max_pol = 1\n",
        "        for action in taxienv.possible_actions(s):\n",
        "          probs = taxienv.ride_probabilities(s, action)\n",
        "          rewards = taxienv.ride_rewards(s, action)\n",
        "          exp_reward = 0\n",
        "          idx= 0\n",
        "          for ns in states:\n",
        "            exp_reward += probs[idx]*(rewards[idx] + gamma*values[ns])\n",
        "            idx += 1\n",
        "          if exp_reward > max_val:\n",
        "            max_val = exp_reward\n",
        "            max_pol = action \n",
        "        policy[s] = max_pol\n",
        "        if (b != policy[s]):\n",
        "          done=0\n",
        "      if done==1:\n",
        "        break\n",
        "\n",
        "    # Hints - \n",
        "    # Do not hardcode anything\n",
        "    # Only the final result is required for the results\n",
        "    # Put any extra data in \"extra_info\" dictonary for any plots etc\n",
        "    # Use the helper functions taxienv.ride_rewards, taxienv.ride_probabilities,  taxienv.possible_actions\n",
        "    # For terminating condition use the condition exactly mentioned in the pdf\n",
        "    \n",
        "    # Put your extra information needed for plots etc in this dictionary\n",
        "    extra_info = {}\n",
        "\n",
        "    ## Do not edit below this line\n",
        "\n",
        "\n",
        "    # Final results\n",
        "    return {\"Expected Reward\": values, \"Policy\": policy}, extra_info\n",
        "\n",
        "print(modified_policy_iteration(env, 0.9, 5))"
      ],
      "execution_count": null,
      "outputs": [
        {
          "output_type": "stream",
          "text": [
            "({'Expected Reward': {'A': 89.81178760453517, 'B': 103.46459982778873, 'C': 90.99521888644551}, 'Policy': {'A': '2', 'B': '2', 'C': '2'}}, {})\n"
          ],
          "name": "stdout"
        }
      ]
    },
    {
      "cell_type": "markdown",
      "metadata": {
        "id": "Ri209oMmArAJ"
      },
      "source": [
        "# Task 4 Modified policy iteration for multiple values of m\n",
        "\n",
        "Ideally this code should run as is"
      ]
    },
    {
      "cell_type": "code",
      "metadata": {
        "id": "NCdvj8oT7HNK"
      },
      "source": [
        "def run_modified_policy_iteration(env):\n",
        "    m_values = np.arange(1, 15)\n",
        "    gamma = 0.9\n",
        "    results, extra_info = {}, {}\n",
        "    for m in m_values:\n",
        "        results[m], extra_info[m] = modified_policy_iteration(env, gamma, m)\n",
        "    return results, extra_info\n",
        "\n",
        "results, extra_info = run_modified_policy_iteration(env)"
      ],
      "execution_count": null,
      "outputs": []
    },
    {
      "cell_type": "markdown",
      "metadata": {
        "id": "GtzMS2mLA47d"
      },
      "source": [
        "# Task 5 Value Iteration\n",
        "\n",
        "Implement value iteration and find the policy and expected rewards"
      ]
    },
    {
      "cell_type": "code",
      "metadata": {
        "id": "WscmNpRA7HNK",
        "colab": {
          "base_uri": "https://localhost:8080/"
        },
        "outputId": "10f1b8ae-c180-4adb-d769-3dd6a8309731"
      },
      "source": [
        "# 1.4 Value Iteration\n",
        "def value_iteration(taxienv, gamma):\n",
        "    # A list of all the states\n",
        "    states = taxienv.possible_states\n",
        "    # Initial values\n",
        "    values = {s: 0 for s in states}\n",
        "\n",
        "    # This is a dictionary of states to policies -> e.g {'A': '1', 'B': '2', 'C': '1'}\n",
        "    policy = taxienv.initial_policy.copy()\n",
        "\n",
        "    ## Begin code here\n",
        "    itr = 0\n",
        "    while True:\n",
        "      itr += 1\n",
        "      val = {s: 0 for s in states}\n",
        "      delta = 0\n",
        "      for s in states:\n",
        "        j = values[s]\n",
        "        max_val = 0\n",
        "        max_pol = 1\n",
        "        for action in taxienv.possible_actions(s):\n",
        "          probs = taxienv.ride_probabilities(s, action)\n",
        "          rewards = taxienv.ride_rewards(s, action)\n",
        "          reward = 0\n",
        "          idx = 0\n",
        "          for ns in states:\n",
        "            reward += probs[idx]*(rewards[idx] + gamma*values[ns])\n",
        "            idx += 1\n",
        "          if max_val < reward:\n",
        "            max_val = reward\n",
        "            max_pol = action\n",
        "        \n",
        "        val[s] = max_val\n",
        "        policy[s] = max_pol\n",
        "        delta = max(delta, abs(val[s]-values[s]))\n",
        "      values = val.copy()\n",
        "      if delta < 1e-8:\n",
        "        break\n",
        "\n",
        "    # Hints - \n",
        "    # Do not hardcode anything\n",
        "    # Only the final result is required for the results\n",
        "    # Put any extra data in \"extra_info\" dictonary for any plots etc\n",
        "    # Use the helper functions taxienv.ride_rewards, taxienv.ride_probabilities,  taxienv.possible_actions\n",
        "    # For terminating condition use the condition exactly mentioned in the pdf\n",
        "\n",
        "\n",
        "    # Put your extra information needed for plots etc in this dictionary\n",
        "    extra_info = {\"iterations\":itr}\n",
        "\n",
        "    ## Do not edit below this line\n",
        "\n",
        "    # Final results\n",
        "    return {\"Expected Reward\": values, \"Policy\": policy}, extra_info\n",
        "  \n",
        "print(value_iteration(env, 0.9))"
      ],
      "execution_count": null,
      "outputs": [
        {
          "output_type": "stream",
          "text": [
            "({'Expected Reward': {'A': 121.65347103895924, 'B': 135.30627543932593, 'C': 122.83690299162194}, 'Policy': {'A': '2', 'B': '2', 'C': '2'}}, {'iterations': 201})\n"
          ],
          "name": "stdout"
        }
      ]
    },
    {
      "cell_type": "markdown",
      "metadata": {
        "id": "YzDEiVW5BCeH"
      },
      "source": [
        "# Task 6 Value Iteration with multiple values of gamma\n",
        "\n",
        "Ideally this code should run as is"
      ]
    },
    {
      "cell_type": "code",
      "metadata": {
        "id": "KOdCrkHk7HNK"
      },
      "source": [
        "def run_value_iteration(env):\n",
        "    gamma_values = np.arange(5, 100, 5)/100\n",
        "    results = {}\n",
        "    results, extra_info = {}, {}\n",
        "    for gamma in gamma_values:\n",
        "        results[gamma], extra_info[gamma] = value_iteration(env, gamma)\n",
        "    return results, extra_info\n",
        "  \n",
        "results, extra_info = run_value_iteration(env)"
      ],
      "execution_count": null,
      "outputs": []
    },
    {
      "cell_type": "markdown",
      "metadata": {
        "id": "ZFyuQU-SBh1Y"
      },
      "source": [
        "# Task 7 Gauss Seidel Value Iteration\n",
        "\n",
        "Implement Gauss Seidel Value Iteration"
      ]
    },
    {
      "cell_type": "code",
      "metadata": {
        "id": "5nR_Np9i7HNK",
        "colab": {
          "base_uri": "https://localhost:8080/"
        },
        "outputId": "281eb135-a253-4c3f-a462-6ec4e1675d22"
      },
      "source": [
        "# 1.4 Gauss Seidel Value Iteration\n",
        "def gauss_seidel_value_iteration(taxienv, gamma):\n",
        "    # A list of all the states\n",
        "    # For Gauss Seidel Value Iteration - iterate through the values in the same order\n",
        "    states = taxienv.possible_states\n",
        "\n",
        "    # Initial values\n",
        "    values = {s: 0 for s in states}\n",
        "\n",
        "    # This is a dictionary of states to policies -> e.g {'A': '1', 'B': '2', 'C': '1'}\n",
        "    policy = taxienv.initial_policy.copy()\n",
        "\n",
        "    # Hints - \n",
        "    # Do not hardcode anything\n",
        "    # For Gauss Seidel Value Iteration - iterate through the values in the same order as taxienv.possible_states\n",
        "    # Only the final result is required for the results\n",
        "    # Put any extra data in \"extra_info\" dictonary for any plots etc\n",
        "    # Use the helper functions taxienv.ride_rewards, taxienv.ride_probabilities,  taxienv.possible_actions\n",
        "    # For terminating condition use the condition exactly mentioned in the pdf\n",
        "\n",
        "    ## Begin code here\n",
        "    itr = 0\n",
        "    while True:\n",
        "      itr+=1\n",
        "      delta = 0\n",
        "      for s in states:\n",
        "        j = values[s]\n",
        "        max_val = 0\n",
        "        max_pol = 1\n",
        "        for action in taxienv.possible_actions(s):\n",
        "          probs = taxienv.ride_probabilities(s, action)\n",
        "          rewards = taxienv.ride_rewards(s, action)\n",
        "          reward = 0\n",
        "          idx = 0\n",
        "          for ns in states:\n",
        "            reward += probs[idx]*(rewards[idx] + gamma*values[ns])\n",
        "            idx += 1\n",
        "          if max_val < reward:\n",
        "            max_val = reward\n",
        "            max_pol = action\n",
        "        values[s] = max_val\n",
        "        policy[s] = max_pol\n",
        "        delta = max(delta, abs(j-values[s]))\n",
        "      if delta < 1e-8:\n",
        "        break\n",
        "    # Put your extra information needed for plots etc in this dictionary\n",
        "    extra_info = {\"iterations\": itr}\n",
        "\n",
        "    ## Do not edit below this line\n",
        "\n",
        "    # Final results\n",
        "    return {\"Expected Reward\": values, \"Policy\": policy}, extra_info\n",
        "  \n",
        "print(gauss_seidel_value_iteration(env, 0.9))"
      ],
      "execution_count": null,
      "outputs": [
        {
          "output_type": "stream",
          "text": [
            "({'Expected Reward': {'A': 121.65347104963263, 'B': 135.30627544959796, 'C': 122.83690300915262}, 'Policy': {'A': '2', 'B': '2', 'C': '2'}}, {'iterations': 179})\n"
          ],
          "name": "stdout"
        }
      ]
    },
    {
      "cell_type": "markdown",
      "metadata": {
        "id": "rb5-lVMnBrPs"
      },
      "source": [
        "# Task 8 Gauss Seidel Value Iteration with multiple values of gamma\n",
        "\n",
        "Ideally this code should run as is"
      ]
    },
    {
      "cell_type": "code",
      "metadata": {
        "id": "S0PYuArr7HNL"
      },
      "source": [
        "def run_gauss_seidel_value_iteration(env):\n",
        "    gamma_values = np.arange(5, 100, 5)/100\n",
        "    results = {}\n",
        "    results, extra_info = {}, {}\n",
        "    for gamma in gamma_values:\n",
        "        results[gamma], extra_info[gamma] = gauss_seidel_value_iteration(env, gamma)\n",
        "    return results, extra_info\n",
        "\n",
        "results, extra_info = run_gauss_seidel_value_iteration(env)"
      ],
      "execution_count": null,
      "outputs": []
    },
    {
      "cell_type": "markdown",
      "metadata": {
        "id": "afr7dT1KB63X"
      },
      "source": [
        "# Generate Results ✅"
      ]
    },
    {
      "cell_type": "code",
      "metadata": {
        "id": "oMAslLVs7HNL"
      },
      "source": [
        "# Do not edit this cell\n",
        "def get_results(kwargs):\n",
        "\n",
        "    taxienv = TaxiEnv_HW2(**kwargs)\n",
        "\n",
        "    policy_iteration_results = run_policy_iteration(taxienv)[0]\n",
        "    modified_policy_iteration_results = run_modified_policy_iteration(taxienv)[0]\n",
        "    value_iteration_results = run_value_iteration(taxienv)[0]\n",
        "    gs_vi_results = run_gauss_seidel_value_iteration(taxienv)[0]\n",
        "\n",
        "    final_results = {}\n",
        "    final_results[\"policy_iteration\"] = policy_iteration_results\n",
        "    final_results[\"modifed_policy_iteration\"] = modified_policy_iteration_results\n",
        "    final_results[\"value_iteration\"] = value_iteration_results\n",
        "    final_results[\"gauss_seidel_iteration\"] = gs_vi_results\n",
        "\n",
        "    return final_results"
      ],
      "execution_count": null,
      "outputs": []
    },
    {
      "cell_type": "code",
      "metadata": {
        "id": "vGaLk-KC7HNM"
      },
      "source": [
        "# Do not edit this cell, generate results with it as is\n",
        "if not os.path.exists(AICROWD_RESULTS_DIR):\n",
        "    os.mkdir(AICROWD_RESULTS_DIR)\n",
        "\n",
        "for params_file in os.listdir(DATASET_DIR):\n",
        "  kwargs = np.load(os.path.join(DATASET_DIR, params_file), allow_pickle=True).item()\n",
        "  results = get_results(kwargs)\n",
        "  idx = params_file.split('_')[-1][:-4]\n",
        "  np.save(os.path.join(AICROWD_RESULTS_DIR, 'results_' + idx), results)"
      ],
      "execution_count": null,
      "outputs": []
    },
    {
      "cell_type": "markdown",
      "metadata": {
        "id": "dE60K0ykB9o4"
      },
      "source": [
        "# Check your local score\n",
        "\n",
        "This score is not your final score, and it doesn't use the marks weightages. This is only for your reference of how arrays are matched and with what tolerance."
      ]
    },
    {
      "cell_type": "code",
      "metadata": {
        "id": "KvyPuaJu7HNM",
        "colab": {
          "base_uri": "https://localhost:8080/"
        },
        "outputId": "8e7e1b5b-ac88-4e71-8513-36103f20588d"
      },
      "source": [
        "# Check your score on the given test cases (There are more private test cases not provided)\n",
        "target_folder = 'targets'\n",
        "result_folder = AICROWD_RESULTS_DIR\n",
        "\n",
        "def check_algo_match(results, targets):\n",
        "    param_matches = []\n",
        "    for k in results:\n",
        "        param_results = results[k]\n",
        "        param_targets = targets[k]\n",
        "        policy_match = param_results['Policy'] == param_targets['Policy']\n",
        "        rv = [v for k, v in param_results['Expected Reward'].items()]\n",
        "        tv = [v for k, v in param_targets['Expected Reward'].items()]\n",
        "        rewards_match = np.allclose(rv, tv, rtol=3)\n",
        "        equal = rewards_match and policy_match\n",
        "        param_matches.append(equal)\n",
        "    return np.mean(param_matches)\n",
        "\n",
        "def check_score(target_folder, result_folder):\n",
        "    match = []\n",
        "    for out_file in os.listdir(result_folder):\n",
        "        res_file = os.path.join(result_folder, out_file)\n",
        "        results = np.load(res_file, allow_pickle=True).item()\n",
        "        idx = out_file.split('_')[-1][:-4]  # Extract the file number\n",
        "        target_file = os.path.join(target_folder, f\"targets_{idx}.npy\")\n",
        "        targets = np.load(target_file, allow_pickle=True).item()\n",
        "        algo_match = []\n",
        "        for k in targets:\n",
        "            algo_results = results[k]\n",
        "            algo_targets = targets[k]\n",
        "            algo_match.append(check_algo_match(algo_results, algo_targets))\n",
        "        match.append(np.mean(algo_match))\n",
        "    return np.mean(match)\n",
        "\n",
        "if os.path.exists(target_folder):\n",
        "    print(\"Shared data Score (normalized to 1):\", check_score(target_folder, result_folder))"
      ],
      "execution_count": null,
      "outputs": [
        {
          "output_type": "stream",
          "text": [
            "Shared data Score (normalized to 1): 1.0\n"
          ],
          "name": "stdout"
        }
      ]
    },
    {
      "cell_type": "markdown",
      "metadata": {
        "id": "QB5dFvNgCtag"
      },
      "source": [
        "## Visualize results of Policy Iteration with multiple values of gamma\n",
        "\n",
        "Add code to visualize the results"
      ]
    },
    {
      "cell_type": "code",
      "metadata": {
        "id": "up8IOm_kDBUT",
        "colab": {
          "base_uri": "https://localhost:8080/",
          "height": 638
        },
        "outputId": "f6aff04d-08c2-4f68-d239-676b80511747"
      },
      "source": [
        "## Visualize policy iteration with multiple values of gamma\n",
        "def run_policy_iteration(env):\n",
        "    gamma_values = np.arange(5, 100, 5)/100\n",
        "    results, extra_info = {}, {}\n",
        "    for gamma in gamma_values:\n",
        "        results[gamma], extra_info[gamma] = policy_iteration(env, gamma)\n",
        "    return results, extra_info\n",
        "\n",
        "import matplotlib.pyplot as plt \n",
        "results, extra_info = run_policy_iteration(env)\n",
        "rewA = []\n",
        "rewB = []\n",
        "rewC = []\n",
        "gammas = np.arange(5, 100, 5)/100\n",
        "print(\"Optimal policies for different gamma values\")\n",
        "for gamma in results:\n",
        "  print(gamma, \" -> \", results[gamma]['Policy'])\n",
        "  rewA.append(results[gamma]['Expected Reward']['A'])\n",
        "  rewB.append(results[gamma]['Expected Reward']['B'])\n",
        "  rewC.append(results[gamma]['Expected Reward']['C'])\n",
        "print(\"Plot of rewards of states vs gamma\")\n",
        "plt.plot(gammas, rewA)\n",
        "plt.plot(gammas, rewB)\n",
        "plt.plot(gammas, rewC)\n",
        "plt.show()\n"
      ],
      "execution_count": null,
      "outputs": [
        {
          "output_type": "stream",
          "text": [
            "Optimal policies for different gamma values\n",
            "0.05  ->  {'A': '1', 'B': '1', 'C': '1'}\n",
            "0.1  ->  {'A': '1', 'B': '1', 'C': '1'}\n",
            "0.15  ->  {'A': '1', 'B': '2', 'C': '1'}\n",
            "0.2  ->  {'A': '1', 'B': '2', 'C': '1'}\n",
            "0.25  ->  {'A': '1', 'B': '2', 'C': '1'}\n",
            "0.3  ->  {'A': '1', 'B': '2', 'C': '1'}\n",
            "0.35  ->  {'A': '1', 'B': '2', 'C': '1'}\n",
            "0.4  ->  {'A': '1', 'B': '2', 'C': '1'}\n",
            "0.45  ->  {'A': '1', 'B': '2', 'C': '1'}\n",
            "0.5  ->  {'A': '1', 'B': '2', 'C': '1'}\n",
            "0.55  ->  {'A': '1', 'B': '2', 'C': '2'}\n",
            "0.6  ->  {'A': '1', 'B': '2', 'C': '2'}\n",
            "0.65  ->  {'A': '1', 'B': '2', 'C': '2'}\n",
            "0.7  ->  {'A': '1', 'B': '2', 'C': '2'}\n",
            "0.75  ->  {'A': '1', 'B': '2', 'C': '2'}\n",
            "0.8  ->  {'A': '2', 'B': '2', 'C': '2'}\n",
            "0.85  ->  {'A': '2', 'B': '2', 'C': '2'}\n",
            "0.9  ->  {'A': '2', 'B': '2', 'C': '2'}\n",
            "0.95  ->  {'A': '2', 'B': '2', 'C': '2'}\n",
            "Plot of rewards of states vs gamma\n"
          ],
          "name": "stdout"
        },
        {
          "output_type": "display_data",
          "data": {
            "image/png": "[encoded data removed]",
            "text/plain": [
              "<Figure size 432x288 with 1 Axes>"
            ]
          },
          "metadata": {
            "tags": [],
            "needs_background": "light"
          }
        }
      ]
    },
    {
      "cell_type": "code",
      "metadata": {
        "id": "7K_RsY-_BQKM"
      },
      "source": [
        ""
      ],
      "execution_count": null,
      "outputs": []
    },
    {
      "cell_type": "markdown",
      "metadata": {
        "id": "SVeF4twxCbE2"
      },
      "source": [
        "# Subjective questions\n"
      ]
    },
    {
      "cell_type": "markdown",
      "metadata": {
        "id": "7OTOOLxFDGv4"
      },
      "source": [
        "## 1.a How are values of $\\gamma$ affecting results of policy iteration\n",
        "\n",
        "Lower value of gamma reduces the contribution of reward from other days, hence the policy prefers the one which has highest daily expected reward.\n",
        "With higher value of $\\gamma$, the other days also contribute substantially, and hence the reward increases by a lot. We also see a shift of optimum policy from {A:1, B:1, C:1} to {A:2, B:2, C:2}."
      ]
    },
    {
      "cell_type": "markdown",
      "metadata": {
        "id": "GAwfK84I9Gfr"
      },
      "source": [
        "## 1.b For modified policy itetaration, do you find any improvement if you choose m=10.\n",
        "\n",
        "In both cases the optimal policy returned here is same, but the expected value is higher in case of m=10. Since the value estimation for a specific policy runs for more iterations, it gets closer to the optimal value. We have already seen from VI that the optimal values are \\{'A': 121.65347103895924, 'B': 135.30627543932593, 'C': 122.83690299162194\\}. Clearly this is even more than what we get after 10 iterations, this means that further increasing m might help in getting values closer to convergence."
      ]
    },
    {
      "cell_type": "code",
      "metadata": {
        "colab": {
          "base_uri": "https://localhost:8080/"
        },
        "id": "Z0AGJOFeCY4O",
        "outputId": "82b8c60a-45d5-41ea-86f7-c9f9ce3b861c"
      },
      "source": [
        "print(modified_policy_iteration(env, 0.9, 5))\n",
        "print(modified_policy_iteration(env, 0.9, 10))"
      ],
      "execution_count": null,
      "outputs": [
        {
          "output_type": "stream",
          "text": [
            "({'Expected Reward': {'A': 89.81178760453517, 'B': 103.46459982778873, 'C': 90.99521888644551}, 'Policy': {'A': '2', 'B': '2', 'C': '2'}}, {})\n",
            "({'Expected Reward': {'A': 113.12458909097927, 'B': 126.77739349151406, 'C': 114.3080210436424}, 'Policy': {'A': '2', 'B': '2', 'C': '2'}}, {})\n"
          ],
          "name": "stdout"
        }
      ]
    },
    {
      "cell_type": "markdown",
      "metadata": {
        "id": "7SkpuEN0DWww"
      },
      "source": [
        "## 1.c Compare and contrast the behavior of Value Iteration and Gauss Seidel Value Iteraton\n",
        "\n",
        "Since both the algorithms run till convergence, the output converges to the same value (difference < 1e-8). But it is expected that Gauss-Seidel VI converges faster, that is using lesser iterations (as observed). This is due to the fact that Gauss-Seidel VI uses updated values immediately, and does not wait for next iteration to utilize that."
      ]
    },
    {
      "cell_type": "code",
      "metadata": {
        "colab": {
          "base_uri": "https://localhost:8080/"
        },
        "id": "aMM8vww6CkIX",
        "outputId": "4fd7efaf-371e-48ed-a006-8576443f8b47"
      },
      "source": [
        "print(value_iteration(env, 0.9))\n",
        "print(gauss_seidel_value_iteration(env, 0.9))"
      ],
      "execution_count": null,
      "outputs": [
        {
          "output_type": "stream",
          "text": [
            "({'Expected Reward': {'A': 121.65347103895924, 'B': 135.30627543932593, 'C': 122.83690299162194}, 'Policy': {'A': '2', 'B': '2', 'C': '2'}}, {'iterations': 201})\n",
            "({'Expected Reward': {'A': 121.65347104963263, 'B': 135.30627544959796, 'C': 122.83690300915262}, 'Policy': {'A': '2', 'B': '2', 'C': '2'}}, {'iterations': 179})\n"
          ],
          "name": "stdout"
        }
      ]
    },
    {
      "cell_type": "markdown",
      "metadata": {
        "id": "FO8mOpHW_JdB"
      },
      "source": [
        "# Submit to AIcrowd 🚀"
      ]
    },
    {
      "cell_type": "code",
      "metadata": {
        "id": "3WDAXnI17HNM",
        "colab": {
          "base_uri": "https://localhost:8080/"
        },
        "outputId": "83f915dd-96f5-4eef-9cf4-9347182fee15"
      },
      "source": [
        "!DATASET_PATH=$AICROWD_DATASET_PATH aicrowd notebook submit -c iit-m-rl-assignment-2-taxi -a assets"
      ],
      "execution_count": null,
      "outputs": [
        {
          "output_type": "stream",
          "text": [
            "No jupyter lab module found. Using jupyter notebook.\n",
            "Using notebook: /content/CS17B103_IITM_Assignment_2_Taxi_Release.ipynb for submission...\n",
            "Removing existing files from submission directory...\n",
            "\u001b[1;34mMounting Google Drive 💾\u001b[0m\n",
            "Your Google Drive will be mounted to access the colab notebook\n",
            "Go to this URL in a browser: https://accounts.google.com/o/oauth2/auth?client_id=947318989803-6bn6qk8qdgf4n4g3pfee6491hc0brc4i.apps.googleusercontent.com&redirect_uri=urn%3aietf%3awg%3aoauth%3a2.0%3aoob&scope=email%20https%3a%2f%2fwww.googleapis.com%2fauth%2fdocs.test%20https%3a%2f%2fwww.googleapis.com%2fauth%2fdrive%20https%3a%2f%2fwww.googleapis.com%2fauth%2fdrive.photos.readonly%20https%3a%2f%2fwww.googleapis.com%2fauth%2fpeopleapi.readonly%20https%3a%2f%2fwww.googleapis.com%2fauth%2fdrive.activity.readonly%20https%3a%2f%2fwww.googleapis.com%2fauth%2fexperimentsandconfigs%20https%3a%2f%2fwww.googleapis.com%2fauth%2fphotos.native&response_type=code\n",
            "\n",
            "Enter your authorization code:\n",
            "4/1AY0e-g6lTVhGQJ6gGE6PGsPVByg46y7iMdwnWXYUju3svBgoHRxofHkKB7I\n",
            "Mounted at /content/drive\n",
            "No jupyter lab module found. Using jupyter notebook.\n",
            "Scrubbing API keys from the notebook...\n",
            "Collecting notebook...\n",
            "No jupyter lab module found. Using jupyter notebook.\n",
            "Validating the submission...\n",
            "Executing install.ipynb...\n",
            "[NbConvertApp] Converting notebook /content/submission/install.ipynb to notebook\n",
            "[NbConvertApp] Executing notebook with kernel: python3\n",
            "[NbConvertApp] Writing 1033 bytes to /content/submission/install.nbconvert.ipynb\n",
            "Executing predict.ipynb...\n",
            "[NbConvertApp] Converting notebook /content/submission/predict.ipynb to notebook\n",
            "[NbConvertApp] Executing notebook with kernel: python3\n",
            "[NbConvertApp] ERROR | unhandled iopub msg: colab_request\n",
            "[NbConvertApp] ERROR | unhandled iopub msg: colab_request\n",
            "[NbConvertApp] ERROR | unhandled iopub msg: colab_request\n",
            "[NbConvertApp] ERROR | unhandled iopub msg: colab_request\n",
            "[NbConvertApp] ERROR | unhandled iopub msg: colab_request\n",
            "[NbConvertApp] ERROR | unhandled iopub msg: colab_request\n",
            "[NbConvertApp] Writing 56988 bytes to /content/submission/predict.nbconvert.ipynb\n",
            "\u001b[2K\u001b[1;34msubmission.zip\u001b[0m \u001b[90m━━━━━━━━━━━━━━━━━━━━\u001b[0m \u001b[35m100.0%\u001b[0m • \u001b[32m61.1/59.5 KB\u001b[0m • \u001b[31m484.5 kB/s\u001b[0m • \u001b[36m0:00:00\u001b[0m\n",
            "\u001b[?25h                                                          ╭─────────────────────────╮                                                           \n",
            "                                                          │ \u001b[1mSuccessfully submitted!\u001b[0m │                                                           \n",
            "                                                          ╰─────────────────────────╯                                                           \n",
            "\u001b[3m                                                                Important links                                                                 \u001b[0m\n",
            "┌──────────────────┬───────────────────────────────────────────────────────────────────────────────────────────────────────────────────────────┐\n",
            "│  This submission │ https://www.aicrowd.com/challenges/iit-m-assignment-2/problems/iit-m-rl-assignment-2-taxi/submissions/132306              │\n",
            "│                  │                                                                                                                           │\n",
            "│  All submissions │ https://www.aicrowd.com/challenges/iit-m-assignment-2/problems/iit-m-rl-assignment-2-taxi/submissions?my_submissions=true │\n",
            "│                  │                                                                                                                           │\n",
            "│      Leaderboard │ https://www.aicrowd.com/challenges/iit-m-assignment-2/problems/iit-m-rl-assignment-2-taxi/leaderboards                    │\n",
            "│                  │                                                                                                                           │\n",
            "│ Discussion forum │ https://discourse.aicrowd.com/c/iit-m-assignment-2                                                                        │\n",
            "│                  │                                                                                                                           │\n",
            "│   Challenge page │ https://www.aicrowd.com/challenges/iit-m-assignment-2/problems/iit-m-rl-assignment-2-taxi                                 │\n",
            "└──────────────────┴───────────────────────────────────────────────────────────────────────────────────────────────────────────────────────────┘\n"
          ],
          "name": "stdout"
        }
      ]
    }
  ]
}